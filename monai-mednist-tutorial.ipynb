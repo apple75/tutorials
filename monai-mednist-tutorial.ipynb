{
 "cells": [
  {
   "cell_type": "code",
   "execution_count": 1,
   "id": "de130c0f",
   "metadata": {
    "_cell_guid": "b1076dfc-b9ad-4769-8c92-a6c4dae69d19",
    "_uuid": "8f2839f25d086af736a60e9eeb907d3b93b6e0e5",
    "execution": {
     "iopub.execute_input": "2024-11-28T05:38:55.209884Z",
     "iopub.status.busy": "2024-11-28T05:38:55.208859Z",
     "iopub.status.idle": "2024-11-28T05:38:55.935051Z",
     "shell.execute_reply": "2024-11-28T05:38:55.934286Z"
    },
    "papermill": {
     "duration": 0.735735,
     "end_time": "2024-11-28T05:38:55.937241",
     "exception": false,
     "start_time": "2024-11-28T05:38:55.201506",
     "status": "completed"
    },
    "tags": []
   },
   "outputs": [],
   "source": [
    "# This Python 3 environment comes with many helpful analytics libraries installed\n",
    "# It is defined by the kaggle/python Docker image: https://github.com/kaggle/docker-python\n",
    "# For example, here's several helpful packages to load\n",
    "\n",
    "import numpy as np # linear algebra\n",
    "import pandas as pd # data processing, CSV file I/O (e.g. pd.read_csv)\n",
    "\n",
    "# Input data files are available in the read-only \"../input/\" directory\n",
    "# For example, running this (by clicking run or pressing Shift+Enter) will list all files under the input directory\n",
    "\n",
    "import os\n",
    "for dirname, _, filenames in os.walk('/kaggle/input'):\n",
    "    for filename in filenames:\n",
    "        print(os.path.join(dirname, filename))\n",
    "\n",
    "# You can write up to 20GB to the current directory (/kaggle/working/) that gets preserved as output when you create a version using \"Save & Run All\" \n",
    "# You can also write temporary files to /kaggle/temp/, but they won't be saved outside of the current session"
   ]
  },
  {
   "cell_type": "code",
   "execution_count": 2,
   "id": "f0b9c581",
   "metadata": {
    "execution": {
     "iopub.execute_input": "2024-11-28T05:38:55.949726Z",
     "iopub.status.busy": "2024-11-28T05:38:55.948874Z",
     "iopub.status.idle": "2024-11-28T05:38:55.952871Z",
     "shell.execute_reply": "2024-11-28T05:38:55.952090Z"
    },
    "papermill": {
     "duration": 0.011973,
     "end_time": "2024-11-28T05:38:55.954744",
     "exception": false,
     "start_time": "2024-11-28T05:38:55.942771",
     "status": "completed"
    },
    "tags": []
   },
   "outputs": [],
   "source": [
    "#!pip install torch torchvision torchaudio --extra-index-url https://download.pytorch.org/whl/cu118"
   ]
  },
  {
   "cell_type": "markdown",
   "id": "f86c8e02",
   "metadata": {
    "papermill": {
     "duration": 0.005879,
     "end_time": "2024-11-28T05:38:55.965820",
     "exception": false,
     "start_time": "2024-11-28T05:38:55.959941",
     "status": "completed"
    },
    "tags": []
   },
   "source": [
    "MONAI中第一个例程：Medical Image Classification Tutorial with the MedNIST Dataset。MedNIST是从  TCIA, the RSNA Bone Age Challenge, and the NIH Chest X-ray dataset 收集和整理的数据集（Dr. Bradley J. Erickson M.D., Ph.D）。355"
   ]
  },
  {
   "cell_type": "code",
   "execution_count": 3,
   "id": "3a70bc66",
   "metadata": {
    "execution": {
     "iopub.execute_input": "2024-11-28T05:38:55.976651Z",
     "iopub.status.busy": "2024-11-28T05:38:55.976356Z",
     "iopub.status.idle": "2024-11-28T05:38:58.994339Z",
     "shell.execute_reply": "2024-11-28T05:38:58.993271Z"
    },
    "papermill": {
     "duration": 3.025845,
     "end_time": "2024-11-28T05:38:58.996498",
     "exception": false,
     "start_time": "2024-11-28T05:38:55.970653",
     "status": "completed"
    },
    "tags": []
   },
   "outputs": [
    {
     "name": "stdout",
     "output_type": "stream",
     "text": [
      "2.4.0\n",
      "True\n",
      "Tesla P100-PCIE-16GB\n"
     ]
    }
   ],
   "source": [
    "import torch\n",
    "print(torch.__version__)\n",
    "print(torch.cuda.is_available())\n",
    "print(torch.cuda.get_device_name(0) if torch.cuda.is_available() else \"No GPU found\")"
   ]
  },
  {
   "cell_type": "code",
   "execution_count": 4,
   "id": "ed647af4",
   "metadata": {
    "execution": {
     "iopub.execute_input": "2024-11-28T05:38:59.008509Z",
     "iopub.status.busy": "2024-11-28T05:38:59.008090Z",
     "iopub.status.idle": "2024-11-28T05:39:09.760266Z",
     "shell.execute_reply": "2024-11-28T05:39:09.759342Z"
    },
    "papermill": {
     "duration": 10.760431,
     "end_time": "2024-11-28T05:39:09.762511",
     "exception": false,
     "start_time": "2024-11-28T05:38:59.002080",
     "status": "completed"
    },
    "tags": []
   },
   "outputs": [
    {
     "name": "stdout",
     "output_type": "stream",
     "text": [
      "Collecting monai\r\n",
      "  Downloading monai-1.4.0-py3-none-any.whl.metadata (11 kB)\r\n",
      "Requirement already satisfied: numpy<2.0,>=1.24 in /opt/conda/lib/python3.10/site-packages (from monai) (1.26.4)\r\n",
      "Requirement already satisfied: torch>=1.9 in /opt/conda/lib/python3.10/site-packages (from monai) (2.4.0)\r\n",
      "Requirement already satisfied: filelock in /opt/conda/lib/python3.10/site-packages (from torch>=1.9->monai) (3.15.1)\r\n",
      "Requirement already satisfied: typing-extensions>=4.8.0 in /opt/conda/lib/python3.10/site-packages (from torch>=1.9->monai) (4.12.2)\r\n",
      "Requirement already satisfied: sympy in /opt/conda/lib/python3.10/site-packages (from torch>=1.9->monai) (1.13.3)\r\n",
      "Requirement already satisfied: networkx in /opt/conda/lib/python3.10/site-packages (from torch>=1.9->monai) (3.3)\r\n",
      "Requirement already satisfied: jinja2 in /opt/conda/lib/python3.10/site-packages (from torch>=1.9->monai) (3.1.4)\r\n",
      "Requirement already satisfied: fsspec in /opt/conda/lib/python3.10/site-packages (from torch>=1.9->monai) (2024.6.1)\r\n",
      "Requirement already satisfied: MarkupSafe>=2.0 in /opt/conda/lib/python3.10/site-packages (from jinja2->torch>=1.9->monai) (2.1.5)\r\n",
      "Requirement already satisfied: mpmath<1.4,>=1.1.0 in /opt/conda/lib/python3.10/site-packages (from sympy->torch>=1.9->monai) (1.3.0)\r\n",
      "Downloading monai-1.4.0-py3-none-any.whl (1.5 MB)\r\n",
      "\u001b[2K   \u001b[90m━━━━━━━━━━━━━━━━━━━━━━━━━━━━━━━━━━━━━━━━\u001b[0m \u001b[32m1.5/1.5 MB\u001b[0m \u001b[31m25.9 MB/s\u001b[0m eta \u001b[36m0:00:00\u001b[0m\r\n",
      "\u001b[?25hInstalling collected packages: monai\r\n",
      "Successfully installed monai-1.4.0\r\n"
     ]
    }
   ],
   "source": [
    "!pip install monai  # 安装MONAI软件包"
   ]
  },
  {
   "cell_type": "code",
   "execution_count": 5,
   "id": "07472417",
   "metadata": {
    "execution": {
     "iopub.execute_input": "2024-11-28T05:39:09.775718Z",
     "iopub.status.busy": "2024-11-28T05:39:09.775104Z",
     "iopub.status.idle": "2024-11-28T05:39:21.870999Z",
     "shell.execute_reply": "2024-11-28T05:39:21.870168Z"
    },
    "papermill": {
     "duration": 12.104876,
     "end_time": "2024-11-28T05:39:21.873206",
     "exception": false,
     "start_time": "2024-11-28T05:39:09.768330",
     "status": "completed"
    },
    "tags": []
   },
   "outputs": [],
   "source": [
    "import os # 用于目录及文件操作，常用指令有os.listdirs(),os.path.join(),os.path.exists()\n",
    "import shutil # 比os权限更高，可以删除目录\n",
    "import tempfile # 临时文件操作\n",
    "import matplotlib.pyplot as plt #数据可视化操作\n",
    "import PIL # 图像处理库\n",
    "import torch # 一种深度学习框架\n",
    "from torch.utils.tensorboard import SummaryWriter # 记录训练过程中的统计信息，用于可视化训练过程\n",
    "import numpy as np # 一种常用的矩阵数值计算的库\n",
    "from sklearn.metrics import classification_report # 一种经典的机器学习软件库skleran，生成模型指标报告"
   ]
  },
  {
   "cell_type": "code",
   "execution_count": 6,
   "id": "06c7ff43",
   "metadata": {
    "execution": {
     "iopub.execute_input": "2024-11-28T05:39:21.886097Z",
     "iopub.status.busy": "2024-11-28T05:39:21.885532Z",
     "iopub.status.idle": "2024-11-28T05:39:48.340997Z",
     "shell.execute_reply": "2024-11-28T05:39:48.340036Z"
    },
    "papermill": {
     "duration": 26.467038,
     "end_time": "2024-11-28T05:39:48.346083",
     "exception": false,
     "start_time": "2024-11-28T05:39:21.879045",
     "status": "completed"
    },
    "tags": []
   },
   "outputs": [
    {
     "name": "stdout",
     "output_type": "stream",
     "text": [
      "MONAI version: 1.4.0\n",
      "Numpy version: 1.26.4\n",
      "Pytorch version: 2.4.0\n",
      "MONAI flags: HAS_EXT = False, USE_COMPILED = False, USE_META_DICT = False\n",
      "MONAI rev id: 46a5272196a6c2590ca2589029eed8e4d56ff008\n",
      "MONAI __file__: /opt/conda/lib/python3.10/site-packages/monai/__init__.py\n",
      "\n",
      "Optional dependencies:\n",
      "Pytorch Ignite version: 0.5.1\n",
      "ITK version: NOT INSTALLED or UNKNOWN VERSION.\n",
      "Nibabel version: 5.2.1\n",
      "scikit-image version: 0.23.2\n",
      "scipy version: 1.14.1\n",
      "Pillow version: 10.4.0\n",
      "Tensorboard version: 2.16.2\n",
      "gdown version: NOT INSTALLED or UNKNOWN VERSION.\n",
      "TorchVision version: 0.19.0\n",
      "tqdm version: 4.66.4\n",
      "lmdb version: NOT INSTALLED or UNKNOWN VERSION.\n",
      "psutil version: 5.9.3\n",
      "pandas version: 2.2.3\n",
      "einops version: NOT INSTALLED or UNKNOWN VERSION.\n",
      "transformers version: 4.45.1\n",
      "mlflow version: NOT INSTALLED or UNKNOWN VERSION.\n",
      "pynrrd version: NOT INSTALLED or UNKNOWN VERSION.\n",
      "clearml version: NOT INSTALLED or UNKNOWN VERSION.\n",
      "\n",
      "For details about installing the optional dependencies, please visit:\n",
      "    https://docs.monai.io/en/latest/installation.html#installing-the-recommended-dependencies\n",
      "\n"
     ]
    }
   ],
   "source": [
    "from monai.apps import download_and_extract # 下载和提取数据集\n",
    "from monai.config import print_config # 显示monai的配置信息，可以根据需要安装选装模块\n",
    "from monai.data import decollate_batch, DataLoader# decollate_batch:将批量数据拆成单独的数据；DataLoader数据加载器\n",
    "from monai.metrics import ROCAUCMetric #ROC AUC指标\n",
    "from monai.networks.nets import DenseNet121 # 稠密卷积网络，2017年优秀CVPR文章\n",
    "from monai.transforms import ( # monai的预处理函数\n",
    "    Activations,#激活函数\n",
    "    EnsureChannelFirst,#确保数据通道在第一位，满足pytorch数据格式要求\n",
    "    AsDiscrete,# 将数据转换为离散值\n",
    "    Compose,# 通过compose得到变换的结果，\n",
    "    LoadImage,# 装载图像\n",
    "    RandFlip,# 随机翻转\n",
    "    RandRotate,# 随机旋转\n",
    "    RandZoom,# 随机放大\n",
    "    ScaleIntensity,# 改变图像的灰度值\n",
    ")\n",
    "from monai.utils import set_determinism # 用来设定随机数状态\n",
    " \n",
    "print_config() # 打印monai的配置信息"
   ]
  },
  {
   "cell_type": "code",
   "execution_count": 7,
   "id": "a0caf004",
   "metadata": {
    "execution": {
     "iopub.execute_input": "2024-11-28T05:39:48.360786Z",
     "iopub.status.busy": "2024-11-28T05:39:48.360072Z",
     "iopub.status.idle": "2024-11-28T05:39:48.364749Z",
     "shell.execute_reply": "2024-11-28T05:39:48.363907Z"
    },
    "papermill": {
     "duration": 0.013725,
     "end_time": "2024-11-28T05:39:48.366414",
     "exception": false,
     "start_time": "2024-11-28T05:39:48.352689",
     "status": "completed"
    },
    "tags": []
   },
   "outputs": [],
   "source": [
    "root_dir = r'/kaggle/working/'# r字符串可以保证/不是转义字符，使得目录写法与真实状态一致"
   ]
  },
  {
   "cell_type": "code",
   "execution_count": 8,
   "id": "42ef1eec",
   "metadata": {
    "execution": {
     "iopub.execute_input": "2024-11-28T05:39:48.380843Z",
     "iopub.status.busy": "2024-11-28T05:39:48.380230Z",
     "iopub.status.idle": "2024-11-28T05:40:01.139186Z",
     "shell.execute_reply": "2024-11-28T05:40:01.138386Z"
    },
    "papermill": {
     "duration": 12.768553,
     "end_time": "2024-11-28T05:40:01.141349",
     "exception": false,
     "start_time": "2024-11-28T05:39:48.372796",
     "status": "completed"
    },
    "tags": []
   },
   "outputs": [
    {
     "name": "stderr",
     "output_type": "stream",
     "text": [
      "MedNIST.tar.gz: 59.0MB [00:01, 47.4MB/s]                            \n"
     ]
    },
    {
     "name": "stdout",
     "output_type": "stream",
     "text": [
      "2024-11-28 05:39:49,754 - INFO - Downloaded: /kaggle/working/MedNIST.tar.gz\n",
      "2024-11-28 05:39:49,863 - INFO - Verified 'MedNIST.tar.gz', md5: 0bc7306e7427e00ad1c5526a6677552d.\n",
      "2024-11-28 05:39:49,863 - INFO - Writing into directory: /kaggle/working/.\n"
     ]
    }
   ],
   "source": [
    "resource = \"https://github.com/Project-MONAI/MONAI-extra-test-data/releases/download/0.8.1/MedNIST.tar.gz\"\n",
    "md5 = \"0bc7306e7427e00ad1c5526a6677552d\" #数据资源为止\n",
    " \n",
    "compressed_file = os.path.join(root_dir, \"MedNIST.tar.gz\")#设置压缩文件名字\n",
    "data_dir = os.path.join(root_dir, \"MedNIST\")#设置数据文件名\n",
    "if not os.path.exists(data_dir):#如果数据文件名不存在，\n",
    "    download_and_extract(resource, compressed_file, root_dir, md5) # 下载数据数据"
   ]
  },
  {
   "cell_type": "code",
   "execution_count": 9,
   "id": "e106656b",
   "metadata": {
    "execution": {
     "iopub.execute_input": "2024-11-28T05:40:01.157667Z",
     "iopub.status.busy": "2024-11-28T05:40:01.156971Z",
     "iopub.status.idle": "2024-11-28T05:40:01.166313Z",
     "shell.execute_reply": "2024-11-28T05:40:01.165495Z"
    },
    "papermill": {
     "duration": 0.019049,
     "end_time": "2024-11-28T05:40:01.167912",
     "exception": false,
     "start_time": "2024-11-28T05:40:01.148863",
     "status": "completed"
    },
    "tags": []
   },
   "outputs": [],
   "source": [
    "set_determinism(seed=0) # 设置随机数种子"
   ]
  },
  {
   "cell_type": "code",
   "execution_count": 10,
   "id": "c1c7c62c",
   "metadata": {
    "execution": {
     "iopub.execute_input": "2024-11-28T05:40:01.182664Z",
     "iopub.status.busy": "2024-11-28T05:40:01.182402Z",
     "iopub.status.idle": "2024-11-28T05:40:01.297196Z",
     "shell.execute_reply": "2024-11-28T05:40:01.296234Z"
    },
    "papermill": {
     "duration": 0.124114,
     "end_time": "2024-11-28T05:40:01.298976",
     "exception": false,
     "start_time": "2024-11-28T05:40:01.174862",
     "status": "completed"
    },
    "tags": []
   },
   "outputs": [
    {
     "name": "stdout",
     "output_type": "stream",
     "text": [
      "Total image count: 58954\n",
      "Image dimensions: 64 x 64\n",
      "Label names: ['AbdomenCT', 'BreastMRI', 'CXR', 'ChestCT', 'Hand', 'HeadCT']\n",
      "Label counts: [10000, 8954, 10000, 10000, 10000, 10000]\n"
     ]
    }
   ],
   "source": [
    "# 通过列表表达式得到分类列表\n",
    "class_names = sorted(x for x in os.listdir(data_dir) if os.path.isdir(os.path.join(data_dir, x)))\n",
    "# 获取标签数量\n",
    "num_class = len(class_names)\n",
    "# 通过列表表达式，得到各个文件夹下的文件名列表，image_files[0]是长度为1000的AbdomenCT 文件名列表\n",
    "image_files = [\n",
    "    [os.path.join(data_dir, class_names[i], x) for x in os.listdir(os.path.join(data_dir, class_names[i]))]\n",
    "    for i in range(num_class)\n",
    "]\n",
    "# 列表表达式得到每一类数据个数的列表，应该为：[10000, 8954, 10000, 10000, 10000, 10000]\n",
    "num_each = [len(image_files[i]) for i in range(num_class)]\n",
    "image_files_list = []# 定义文件名列表\n",
    "image_class = []#定义目标种类列表\n",
    "for i in range(num_class): # 将二维图像文件名整合为一维列表。\n",
    "    image_files_list.extend(image_files[i])# 图像文件名序列\n",
    "    image_class.extend([i] * num_each[i])# 标签序列，与图像文件名序列长度相同\n",
    "num_total = len(image_class) # 标签序列的长度就是总共的样本数量，即文件名序列长度。\n",
    "image_width, image_height = PIL.Image.open(image_files_list[0]).size # 所有文件的图像数据都是相同大小，\n",
    "#通过图像文件名列表的第一个文件获得图像的尺寸\n",
    " \n",
    "print(f\"Total image count: {num_total}\")#输出样本总数\n",
    "print(f\"Image dimensions: {image_width} x {image_height}\")#输出图像数据的尺寸 64×64\n",
    "print(f\"Label names: {class_names}\")# 输出标签种类\n",
    "print(f\"Label counts: {num_each}\") # 输出每个标签对用的图像数据数量"
   ]
  },
  {
   "cell_type": "code",
   "execution_count": 11,
   "id": "2ec10b51",
   "metadata": {
    "execution": {
     "iopub.execute_input": "2024-11-28T05:40:01.314087Z",
     "iopub.status.busy": "2024-11-28T05:40:01.313813Z",
     "iopub.status.idle": "2024-11-28T05:40:02.486418Z",
     "shell.execute_reply": "2024-11-28T05:40:02.485522Z"
    },
    "papermill": {
     "duration": 1.182683,
     "end_time": "2024-11-28T05:40:02.488795",
     "exception": false,
     "start_time": "2024-11-28T05:40:01.306112",
     "status": "completed"
    },
    "tags": []
   },
   "outputs": [
    {
     "data": {
      "image/png": "[encoded data removed]",
      "text/plain": [
       "<Figure size 800x800 with 9 Axes>"
      ]
     },
     "metadata": {},
     "output_type": "display_data"
    }
   ],
   "source": [
    "plt.subplots(3, 3, figsize=(8, 8))#建立包含 3×3 子窗口，尺寸为8×8英寸的图像窗口\n",
    "for i, k in enumerate(np.random.randint(num_total, size=9)): # 从图像数据中随机抽取9个数\n",
    "    im = PIL.Image.open(image_files_list[k]) # 利用PIL读取一个图像数据\n",
    "    arr = np.array(im)# 转换为 ndarry数据类型\n",
    "    plt.subplot(3, 3, i + 1)# 选中3×3窗口中的第i+1个窗口\n",
    "    plt.xlabel(class_names[image_class[k]])# 再x坐标上写出该图像对应的种类\n",
    "    plt.imshow(arr, cmap=\"gray\", vmin=0, vmax=255)# 按照灰度显示图像，且仅显示0-255区域\n",
    "#     plt.imshow(arr, cmap=\"gray\")\n",
    "plt.tight_layout()\n",
    "plt.show()"
   ]
  },
  {
   "cell_type": "markdown",
   "id": "ce0081e1",
   "metadata": {
    "papermill": {
     "duration": 0.008332,
     "end_time": "2024-11-28T05:40:02.506146",
     "exception": false,
     "start_time": "2024-11-28T05:40:02.497814",
     "status": "completed"
    },
    "tags": []
   },
   "source": [
    "因为数据集相对较大，一共有6万多张图片，因此训练集、验证集和测试集可以不按照7：2：1的方式划分。在本例程中，是按照8：1：1的方式来划分训练集、验证机和测试集的。对于分类问题，深度学习模型往往需要打乱数据顺序来消除数据先后顺序的影响。在实际应用中，不是在数据读入内存后再打乱顺序，而是通过对数据文件名进行随机排序。为了确保数据文件和标签在排序过程中保证对应关系不变，需要对序号（索引）序列进行操作。具体代码如下:"
   ]
  },
  {
   "cell_type": "code",
   "execution_count": 12,
   "id": "e63709c9",
   "metadata": {
    "execution": {
     "iopub.execute_input": "2024-11-28T05:40:02.524535Z",
     "iopub.status.busy": "2024-11-28T05:40:02.523971Z",
     "iopub.status.idle": "2024-11-28T05:40:02.553140Z",
     "shell.execute_reply": "2024-11-28T05:40:02.552177Z"
    },
    "papermill": {
     "duration": 0.040053,
     "end_time": "2024-11-28T05:40:02.554828",
     "exception": false,
     "start_time": "2024-11-28T05:40:02.514775",
     "status": "completed"
    },
    "tags": []
   },
   "outputs": [
    {
     "name": "stdout",
     "output_type": "stream",
     "text": [
      "Training count: 47164, Validation count: 5895, Test count: 5895\n"
     ]
    }
   ],
   "source": [
    "val_frac = 0.1 #设置验证集数据比例\n",
    "test_frac = 0.1#设置测试集数据比例\n",
    "length = len(image_files_list)#获得图像数据大小\n",
    "indices = np.arange(length)# 获得0.。length-1的序号向量\n",
    "np.random.shuffle(indices)# 打乱序号向量，消除数据先后顺序的影响\n",
    " \n",
    "test_split = int(test_frac * length)#测试集大小\n",
    "val_split = int(val_frac * length) + test_split#验证机大小\n",
    "test_indices = indices[:test_split]#取得测试集序号序列\n",
    "val_indices = indices[test_split:val_split]#取得验证集序号序列\n",
    "train_indices = indices[val_split:]#剩下的就是训练集序号序列\n",
    " \n",
    "train_x = [image_files_list[i] for i in train_indices]# 通过训练集序号序列，得到训练集文件名列表。\n",
    "train_y = [image_class[i] for i in train_indices]# 通过训练集序号序列，得到训练集对应的标签列表。\n",
    "val_x = [image_files_list[i] for i in val_indices]# 通过验证集序号序列，得到验证集文件名列表。\n",
    "val_y = [image_class[i] for i in val_indices]# 通过验证集序号序列，得到训练集对应的标签列表。\n",
    "test_x = [image_files_list[i] for i in test_indices]# 通过测试集序号序列，得到测试集文件名列表。\n",
    "test_y = [image_class[i] for i in test_indices]# 通过测试集序号序列，得到测试集文件名列表。\n",
    "# 打印出训练集、验证集和测试集数据长度\n",
    "print(f\"Training count: {len(train_x)}, Validation count: \" f\"{len(val_x)}, Test count: {len(test_x)}\")"
   ]
  },
  {
   "cell_type": "markdown",
   "id": "b8ec4baf",
   "metadata": {
    "papermill": {
     "duration": 0.008128,
     "end_time": "2024-11-28T05:40:02.571286",
     "exception": false,
     "start_time": "2024-11-28T05:40:02.563158",
     "status": "completed"
    },
    "tags": []
   },
   "source": [
    "MONAI中的transforms模块包含了所有的图像数据预处理操作，通过下面的设置，分别定义好了训练集变换train_transforms，验证集变换val_transforms，预测结果变换y_pred_trans，图像种类（标签）变换y_trans，只要正确引用下述变换，就可以对数据完成预先定义的预处理操作。具体代码及注释如下：\r\n"
   ]
  },
  {
   "cell_type": "code",
   "execution_count": 13,
   "id": "9d48f1f1",
   "metadata": {
    "execution": {
     "iopub.execute_input": "2024-11-28T05:40:02.589111Z",
     "iopub.status.busy": "2024-11-28T05:40:02.588808Z",
     "iopub.status.idle": "2024-11-28T05:40:02.598575Z",
     "shell.execute_reply": "2024-11-28T05:40:02.597974Z"
    },
    "papermill": {
     "duration": 0.020496,
     "end_time": "2024-11-28T05:40:02.600028",
     "exception": false,
     "start_time": "2024-11-28T05:40:02.579532",
     "status": "completed"
    },
    "tags": []
   },
   "outputs": [],
   "source": [
    "#对于训练集图像数据，进行图像数据载入、图像数据通道前移、灰度归一化，随机翻转、旋转和放大等操作，提升数据多样性\n",
    "train_transforms = Compose(# 用Compose通过列表组合多个变换(预处理)操作\n",
    "    [\n",
    "        LoadImage(image_only=True),# 只读入图像数据\n",
    "        EnsureChannelFirst(),# 确保把图形数据的通道放在第一位，满足torch框架要求\n",
    "        ScaleIntensity(),# 把输入图像数据灰度值缩放到0-1范围内\n",
    "        RandRotate(range_x=np.pi / 12, prob=0.5, keep_size=True),# 50%概率产生-pi/12-pi/12角度的旋转，图像尺寸不变\n",
    "        RandFlip(spatial_axis=0, prob=0.5),# 50%概率产生围绕纵轴的图像翻转\n",
    "        RandZoom(min_zoom=0.9, max_zoom=1.1, prob=0.5),# 50%概率产生0.9-1.1的图像分辨率缩放\n",
    "    ]\n",
    ")\n",
    "# 对验证集数据进行以下操作：图像数据载入、通道前移和灰度归一化操作\n",
    "val_transforms = Compose([LoadImage(image_only=True), EnsureChannelFirst(), ScaleIntensity()])\n",
    "# 对于预测数据的操作为 softmax激活函数，因为标签种类数为6，需要采用softmax分类，得到属于每一类的概率值。\n",
    "y_pred_trans = Compose([Activations(softmax=True)])\n",
    "# 把数据转换为离散值，采用onehot编码\n",
    "y_trans = Compose([AsDiscrete(to_onehot=num_class)])"
   ]
  },
  {
   "cell_type": "markdown",
   "id": "5363a7aa",
   "metadata": {
    "papermill": {
     "duration": 0.008015,
     "end_time": "2024-11-28T05:40:02.616203",
     "exception": false,
     "start_time": "2024-11-28T05:40:02.608188",
     "status": "completed"
    },
    "tags": []
   },
   "source": [
    "在训练深度模型前，需要定义训练、验证和测试数据集_ds及对应的数据加载器_loader。MONAI集成了pytorch框架方法，只需定义MedNISTDataset Class，实例化_ds数据集，再通过调用DataLoader得到对应的数据加载器_loader，就可以运行深度学习框架进行训练了。具体代码如下：355"
   ]
  },
  {
   "cell_type": "code",
   "execution_count": 14,
   "id": "3ac73dc3",
   "metadata": {
    "execution": {
     "iopub.execute_input": "2024-11-28T05:40:02.633800Z",
     "iopub.status.busy": "2024-11-28T05:40:02.633485Z",
     "iopub.status.idle": "2024-11-28T05:40:02.645013Z",
     "shell.execute_reply": "2024-11-28T05:40:02.644047Z"
    },
    "papermill": {
     "duration": 0.022326,
     "end_time": "2024-11-28T05:40:02.646665",
     "exception": false,
     "start_time": "2024-11-28T05:40:02.624339",
     "status": "completed"
    },
    "tags": []
   },
   "outputs": [
    {
     "name": "stderr",
     "output_type": "stream",
     "text": [
      "/opt/conda/lib/python3.10/site-packages/torch/utils/data/dataloader.py:557: UserWarning: This DataLoader will create 10 worker processes in total. Our suggested max number of worker in current system is 4, which is smaller than what this DataLoader is going to create. Please be aware that excessive worker creation might get DataLoader running slow or even freeze, lower the worker number to avoid potential slowness/freeze if necessary.\n",
      "  warnings.warn(_create_warning_msg(\n"
     ]
    }
   ],
   "source": [
    "class MedNISTDataset(torch.utils.data.Dataset):#定义MedNIST数据集\n",
    "    def __init__(self, image_files, labels, transforms):# 初始化函数，获得图像文件名，标签和预处理函数\n",
    "        self.image_files = image_files\n",
    "        self.labels = labels\n",
    "        self.transforms = transforms\n",
    " \n",
    "    def __len__(self): # 返回数据\n",
    "        return len(self.image_files) # 返回数据文件名的数量，即图像数据长度\n",
    " \n",
    "    def __getitem__(self, index): # 按照索引，返回图像数据和对应的标签\n",
    "        return self.transforms(self.image_files[index]), self.labels[index]\n",
    " \n",
    "# 把训练集文件名列表和标签列表，以及定义的变换作为参数调用，用MedNISTDataset实例化train_ds数据集\n",
    "train_ds = MedNISTDataset(train_x, train_y, train_transforms)\n",
    "# 用DataLoader得到训练集数据加载器，批量大小为300（batch_size决定），打乱顺序（shuffle决定），通过10个线程同时加载数据。\n",
    "train_loader = DataLoader(train_ds, batch_size=300, shuffle=True, num_workers=10)\n",
    "# 把验证集文件名列表和标签列表，以及定义的变换作为参数，通过MedNISTDataset实例化为val_ds数据集\n",
    "val_ds = MedNISTDataset(val_x, val_y, val_transforms)\n",
    "# 用DataLoader得到验证数据加载器，其数据集为val_ds,批量大小300（batch_size），通过10个线程加载数据\n",
    "val_loader = DataLoader(val_ds, batch_size=300, num_workers=10)\n",
    "# 把测试集文件名列表和标签列表、以及验证集变换（只进行灰度归一化）作为参数调用，用MedNISTDataset生成测试数据集\n",
    "test_ds = MedNISTDataset(test_x, test_y, val_transforms)\n",
    "# 用DataLoader得到测试数据加载器，其数据集为test_ds,批量大小300（batch_size），通过10个线程加载数据\n",
    "test_loader = DataLoader(test_ds, batch_size=300, num_workers=10)"
   ]
  },
  {
   "cell_type": "markdown",
   "id": "362d1102",
   "metadata": {
    "papermill": {
     "duration": 0.007939,
     "end_time": "2024-11-28T05:40:02.662838",
     "exception": false,
     "start_time": "2024-11-28T05:40:02.654899",
     "status": "completed"
    },
    "tags": []
   },
   "source": [
    "在完成数据加载器的定义之后，就可以开始深度学习模型设计、策略和优化算法选择了。模型选择稠密神经网络DenseNet121，损失函数选择交叉熵，优化算法选择Adam。代码及注释如下：\r\n"
   ]
  },
  {
   "cell_type": "code",
   "execution_count": 15,
   "id": "06e17db1",
   "metadata": {
    "execution": {
     "iopub.execute_input": "2024-11-28T05:40:02.680309Z",
     "iopub.status.busy": "2024-11-28T05:40:02.680047Z",
     "iopub.status.idle": "2024-11-28T05:40:03.070791Z",
     "shell.execute_reply": "2024-11-28T05:40:03.069986Z"
    },
    "papermill": {
     "duration": 0.401831,
     "end_time": "2024-11-28T05:40:03.072821",
     "exception": false,
     "start_time": "2024-11-28T05:40:02.670990",
     "status": "completed"
    },
    "tags": []
   },
   "outputs": [],
   "source": [
    "device = torch.device(\"cuda\" if torch.cuda.is_available() else \"cpu\")#如果平台由gpu，就设置为gpu计算\n",
    "model = DenseNet121(spatial_dims=2, in_channels=1, out_channels=num_class).to(device)#选择DenseNet121模型\n",
    "loss_function = torch.nn.CrossEntropyLoss()#损失函数选择交叉熵损失函数\n",
    "optimizer = torch.optim.Adam(model.parameters(), 1e-5)#优化算法为Adam\n",
    "max_epochs = 4#对所有数据训练四次，也可以增加训练次数\n",
    "val_interval = 1#每次epoch后都会尽心验证\n",
    "auc_metric = ROCAUCMetric()#评估指标为ROC曲线下面积，越接近1说明模型效果越好。"
   ]
  },
  {
   "cell_type": "markdown",
   "id": "bee0d9b1",
   "metadata": {
    "papermill": {
     "duration": 0.008707,
     "end_time": "2024-11-28T05:40:03.090630",
     "exception": false,
     "start_time": "2024-11-28T05:40:03.081923",
     "status": "completed"
    },
    "tags": []
   },
   "source": [
    "准备好了数据加载器、定义好模型，并设置好损失函数及优化算法之后，就可以开始模型训练了。模型训练也需要设置一些参数，比如批量大小（batch_size）、训练循环次数（epochs），以及评价训练效果的性能指标。代码及注释如下："
   ]
  },
  {
   "cell_type": "code",
   "execution_count": 16,
   "id": "578bd733",
   "metadata": {
    "execution": {
     "iopub.execute_input": "2024-11-28T05:40:03.109249Z",
     "iopub.status.busy": "2024-11-28T05:40:03.108832Z",
     "iopub.status.idle": "2024-11-28T05:57:35.419858Z",
     "shell.execute_reply": "2024-11-28T05:57:35.418859Z"
    },
    "papermill": {
     "duration": 1052.322812,
     "end_time": "2024-11-28T05:57:35.421995",
     "exception": false,
     "start_time": "2024-11-28T05:40:03.099183",
     "status": "completed"
    },
    "tags": []
   },
   "outputs": [
    {
     "name": "stdout",
     "output_type": "stream",
     "text": [
      "----------\n",
      "epoch 1/4\n"
     ]
    },
    {
     "name": "stderr",
     "output_type": "stream",
     "text": [
      "/opt/conda/lib/python3.10/multiprocessing/popen_fork.py:66: RuntimeWarning: os.fork() was called. os.fork() is incompatible with multithreaded code, and JAX is multithreaded, so this will likely lead to a deadlock.\n",
      "  self.pid = os.fork()\n"
     ]
    },
    {
     "name": "stdout",
     "output_type": "stream",
     "text": [
      "1/157, train_loss: 1.7861\n",
      "2/157, train_loss: 1.7579\n",
      "3/157, train_loss: 1.7349\n",
      "4/157, train_loss: 1.7121\n",
      "5/157, train_loss: 1.6764\n",
      "6/157, train_loss: 1.6536\n",
      "7/157, train_loss: 1.6250\n",
      "8/157, train_loss: 1.5943\n",
      "9/157, train_loss: 1.5656\n",
      "10/157, train_loss: 1.5610\n",
      "11/157, train_loss: 1.5324\n",
      "12/157, train_loss: 1.5088\n",
      "13/157, train_loss: 1.4761\n",
      "14/157, train_loss: 1.4483\n",
      "15/157, train_loss: 1.4450\n",
      "16/157, train_loss: 1.4296\n",
      "17/157, train_loss: 1.4002\n",
      "18/157, train_loss: 1.3933\n",
      "19/157, train_loss: 1.3492\n",
      "20/157, train_loss: 1.3566\n",
      "21/157, train_loss: 1.2952\n",
      "22/157, train_loss: 1.2912\n",
      "23/157, train_loss: 1.2705\n",
      "24/157, train_loss: 1.2809\n",
      "25/157, train_loss: 1.2578\n",
      "26/157, train_loss: 1.2741\n",
      "27/157, train_loss: 1.2164\n",
      "28/157, train_loss: 1.1884\n",
      "29/157, train_loss: 1.1608\n",
      "30/157, train_loss: 1.1257\n",
      "31/157, train_loss: 1.1460\n",
      "32/157, train_loss: 1.1168\n",
      "33/157, train_loss: 1.0903\n",
      "34/157, train_loss: 1.0716\n",
      "35/157, train_loss: 1.0851\n",
      "36/157, train_loss: 1.0641\n",
      "37/157, train_loss: 1.0576\n",
      "38/157, train_loss: 1.0323\n",
      "39/157, train_loss: 1.0159\n",
      "40/157, train_loss: 1.0531\n",
      "41/157, train_loss: 1.0227\n",
      "42/157, train_loss: 0.9828\n",
      "43/157, train_loss: 0.9521\n",
      "44/157, train_loss: 0.9637\n",
      "45/157, train_loss: 0.9416\n",
      "46/157, train_loss: 0.9244\n",
      "47/157, train_loss: 0.9055\n",
      "48/157, train_loss: 0.8680\n",
      "49/157, train_loss: 0.9108\n",
      "50/157, train_loss: 0.8856\n",
      "51/157, train_loss: 0.8545\n",
      "52/157, train_loss: 0.8722\n",
      "53/157, train_loss: 0.8750\n",
      "54/157, train_loss: 0.8541\n",
      "55/157, train_loss: 0.8423\n",
      "56/157, train_loss: 0.8196\n",
      "57/157, train_loss: 0.8040\n",
      "58/157, train_loss: 0.7866\n",
      "59/157, train_loss: 0.7790\n",
      "60/157, train_loss: 0.8075\n",
      "61/157, train_loss: 0.7620\n",
      "62/157, train_loss: 0.7513\n",
      "63/157, train_loss: 0.7481\n",
      "64/157, train_loss: 0.6970\n",
      "65/157, train_loss: 0.7158\n",
      "66/157, train_loss: 0.7715\n",
      "67/157, train_loss: 0.7052\n",
      "68/157, train_loss: 0.6695\n",
      "69/157, train_loss: 0.7124\n",
      "70/157, train_loss: 0.6417\n",
      "71/157, train_loss: 0.6742\n",
      "72/157, train_loss: 0.6829\n",
      "73/157, train_loss: 0.6830\n",
      "74/157, train_loss: 0.6646\n",
      "75/157, train_loss: 0.5926\n",
      "76/157, train_loss: 0.6422\n",
      "77/157, train_loss: 0.6086\n",
      "78/157, train_loss: 0.6086\n",
      "79/157, train_loss: 0.6204\n",
      "80/157, train_loss: 0.5812\n",
      "81/157, train_loss: 0.5802\n",
      "82/157, train_loss: 0.5864\n",
      "83/157, train_loss: 0.5724\n",
      "84/157, train_loss: 0.5709\n",
      "85/157, train_loss: 0.5803\n",
      "86/157, train_loss: 0.5492\n",
      "87/157, train_loss: 0.4993\n",
      "88/157, train_loss: 0.5626\n",
      "89/157, train_loss: 0.4633\n",
      "90/157, train_loss: 0.5162\n",
      "91/157, train_loss: 0.5127\n",
      "92/157, train_loss: 0.4872\n",
      "93/157, train_loss: 0.5077\n",
      "94/157, train_loss: 0.4929\n",
      "95/157, train_loss: 0.4965\n",
      "96/157, train_loss: 0.5043\n",
      "97/157, train_loss: 0.4517\n",
      "98/157, train_loss: 0.4724\n",
      "99/157, train_loss: 0.4705\n",
      "100/157, train_loss: 0.4490\n",
      "101/157, train_loss: 0.4406\n",
      "102/157, train_loss: 0.4659\n",
      "103/157, train_loss: 0.4281\n",
      "104/157, train_loss: 0.4368\n",
      "105/157, train_loss: 0.4489\n",
      "106/157, train_loss: 0.4223\n",
      "107/157, train_loss: 0.3840\n",
      "108/157, train_loss: 0.4456\n",
      "109/157, train_loss: 0.4368\n",
      "110/157, train_loss: 0.3805\n",
      "111/157, train_loss: 0.3472\n",
      "112/157, train_loss: 0.4019\n",
      "113/157, train_loss: 0.4036\n",
      "114/157, train_loss: 0.3494\n",
      "115/157, train_loss: 0.4052\n",
      "116/157, train_loss: 0.3791\n",
      "117/157, train_loss: 0.3936\n",
      "118/157, train_loss: 0.3889\n",
      "119/157, train_loss: 0.3253\n",
      "120/157, train_loss: 0.3305\n",
      "121/157, train_loss: 0.3643\n",
      "122/157, train_loss: 0.3421\n",
      "123/157, train_loss: 0.3547\n",
      "124/157, train_loss: 0.3668\n",
      "125/157, train_loss: 0.3466\n",
      "126/157, train_loss: 0.3456\n",
      "127/157, train_loss: 0.3449\n",
      "128/157, train_loss: 0.2909\n",
      "129/157, train_loss: 0.3718\n",
      "130/157, train_loss: 0.3136\n",
      "131/157, train_loss: 0.2675\n",
      "132/157, train_loss: 0.3064\n",
      "133/157, train_loss: 0.2940\n",
      "134/157, train_loss: 0.2971\n",
      "135/157, train_loss: 0.3133\n",
      "136/157, train_loss: 0.3472\n",
      "137/157, train_loss: 0.3391\n",
      "138/157, train_loss: 0.2722\n",
      "139/157, train_loss: 0.2651\n",
      "140/157, train_loss: 0.3015\n",
      "141/157, train_loss: 0.3042\n",
      "142/157, train_loss: 0.2623\n",
      "143/157, train_loss: 0.2840\n",
      "144/157, train_loss: 0.2875\n",
      "145/157, train_loss: 0.2800\n",
      "146/157, train_loss: 0.2530\n",
      "147/157, train_loss: 0.2800\n",
      "148/157, train_loss: 0.2801\n",
      "149/157, train_loss: 0.2593\n",
      "150/157, train_loss: 0.2603\n",
      "151/157, train_loss: 0.2683\n",
      "152/157, train_loss: 0.2432\n",
      "153/157, train_loss: 0.2546\n",
      "154/157, train_loss: 0.2272\n",
      "155/157, train_loss: 0.2623\n",
      "156/157, train_loss: 0.2445\n",
      "157/157, train_loss: 0.2428\n"
     ]
    },
    {
     "name": "stderr",
     "output_type": "stream",
     "text": [
      "/opt/conda/lib/python3.10/multiprocessing/popen_fork.py:66: RuntimeWarning: os.fork() was called. os.fork() is incompatible with multithreaded code, and JAX is multithreaded, so this will likely lead to a deadlock.\n",
      "  self.pid = os.fork()\n"
     ]
    },
    {
     "name": "stdout",
     "output_type": "stream",
     "text": [
      "158/157, train_loss: 0.3812\n",
      "epoch 1 average loss: 0.7275\n",
      "saved new best metric model\n",
      "current epoch: 1 current AUC: 0.9980 current accuracy: 0.9608 best AUC: 0.9980 at epoch: 1\n",
      "----------\n",
      "epoch 2/4\n",
      "1/157, train_loss: 0.2629\n",
      "2/157, train_loss: 0.2664\n",
      "3/157, train_loss: 0.2203\n",
      "4/157, train_loss: 0.2463\n",
      "5/157, train_loss: 0.2195\n",
      "6/157, train_loss: 0.2153\n",
      "7/157, train_loss: 0.2265\n",
      "8/157, train_loss: 0.2131\n",
      "9/157, train_loss: 0.2252\n",
      "10/157, train_loss: 0.2397\n",
      "11/157, train_loss: 0.2283\n",
      "12/157, train_loss: 0.2232\n",
      "13/157, train_loss: 0.2403\n",
      "14/157, train_loss: 0.2052\n",
      "15/157, train_loss: 0.2042\n",
      "16/157, train_loss: 0.1904\n",
      "17/157, train_loss: 0.2335\n",
      "18/157, train_loss: 0.1843\n",
      "19/157, train_loss: 0.2283\n",
      "20/157, train_loss: 0.2128\n",
      "21/157, train_loss: 0.1930\n",
      "22/157, train_loss: 0.2029\n",
      "23/157, train_loss: 0.2051\n",
      "24/157, train_loss: 0.1891\n",
      "25/157, train_loss: 0.1809\n",
      "26/157, train_loss: 0.2091\n",
      "27/157, train_loss: 0.1862\n",
      "28/157, train_loss: 0.2159\n",
      "29/157, train_loss: 0.1921\n",
      "30/157, train_loss: 0.1739\n",
      "31/157, train_loss: 0.1936\n",
      "32/157, train_loss: 0.1827\n",
      "33/157, train_loss: 0.1850\n",
      "34/157, train_loss: 0.1827\n",
      "35/157, train_loss: 0.2024\n",
      "36/157, train_loss: 0.2043\n",
      "37/157, train_loss: 0.1681\n",
      "38/157, train_loss: 0.1900\n",
      "39/157, train_loss: 0.1887\n",
      "40/157, train_loss: 0.1923\n",
      "41/157, train_loss: 0.1683\n",
      "42/157, train_loss: 0.1737\n",
      "43/157, train_loss: 0.1627\n",
      "44/157, train_loss: 0.1620\n",
      "45/157, train_loss: 0.1691\n",
      "46/157, train_loss: 0.1772\n",
      "47/157, train_loss: 0.1415\n",
      "48/157, train_loss: 0.1535\n",
      "49/157, train_loss: 0.1869\n",
      "50/157, train_loss: 0.1629\n",
      "51/157, train_loss: 0.1634\n",
      "52/157, train_loss: 0.1687\n",
      "53/157, train_loss: 0.1789\n",
      "54/157, train_loss: 0.1798\n",
      "55/157, train_loss: 0.1621\n",
      "56/157, train_loss: 0.1560\n",
      "57/157, train_loss: 0.1419\n",
      "58/157, train_loss: 0.1582\n",
      "59/157, train_loss: 0.1557\n",
      "60/157, train_loss: 0.1659\n",
      "61/157, train_loss: 0.1627\n",
      "62/157, train_loss: 0.1527\n",
      "63/157, train_loss: 0.1683\n",
      "64/157, train_loss: 0.1441\n",
      "65/157, train_loss: 0.1417\n",
      "66/157, train_loss: 0.1289\n",
      "67/157, train_loss: 0.1605\n",
      "68/157, train_loss: 0.1462\n",
      "69/157, train_loss: 0.1502\n",
      "70/157, train_loss: 0.1387\n",
      "71/157, train_loss: 0.1213\n",
      "72/157, train_loss: 0.1695\n",
      "73/157, train_loss: 0.1176\n",
      "74/157, train_loss: 0.1415\n",
      "75/157, train_loss: 0.1358\n",
      "76/157, train_loss: 0.1221\n",
      "77/157, train_loss: 0.1177\n",
      "78/157, train_loss: 0.1469\n",
      "79/157, train_loss: 0.1325\n",
      "80/157, train_loss: 0.1320\n",
      "81/157, train_loss: 0.1492\n",
      "82/157, train_loss: 0.1215\n",
      "83/157, train_loss: 0.1109\n",
      "84/157, train_loss: 0.1344\n",
      "85/157, train_loss: 0.1330\n",
      "86/157, train_loss: 0.1765\n",
      "87/157, train_loss: 0.1303\n",
      "88/157, train_loss: 0.1296\n",
      "89/157, train_loss: 0.1123\n",
      "90/157, train_loss: 0.1163\n",
      "91/157, train_loss: 0.1121\n",
      "92/157, train_loss: 0.1629\n",
      "93/157, train_loss: 0.1068\n",
      "94/157, train_loss: 0.1231\n",
      "95/157, train_loss: 0.1112\n",
      "96/157, train_loss: 0.1148\n",
      "97/157, train_loss: 0.1180\n",
      "98/157, train_loss: 0.0967\n",
      "99/157, train_loss: 0.1200\n",
      "100/157, train_loss: 0.0878\n",
      "101/157, train_loss: 0.1281\n",
      "102/157, train_loss: 0.1293\n",
      "103/157, train_loss: 0.1122\n",
      "104/157, train_loss: 0.1083\n",
      "105/157, train_loss: 0.1085\n",
      "106/157, train_loss: 0.1230\n",
      "107/157, train_loss: 0.0851\n",
      "108/157, train_loss: 0.1244\n",
      "109/157, train_loss: 0.1001\n",
      "110/157, train_loss: 0.1022\n",
      "111/157, train_loss: 0.1360\n",
      "112/157, train_loss: 0.1192\n",
      "113/157, train_loss: 0.1213\n",
      "114/157, train_loss: 0.0989\n",
      "115/157, train_loss: 0.1103\n",
      "116/157, train_loss: 0.1058\n",
      "117/157, train_loss: 0.1291\n",
      "118/157, train_loss: 0.1012\n",
      "119/157, train_loss: 0.1100\n",
      "120/157, train_loss: 0.1167\n",
      "121/157, train_loss: 0.1055\n",
      "122/157, train_loss: 0.0954\n",
      "123/157, train_loss: 0.0992\n",
      "124/157, train_loss: 0.1027\n",
      "125/157, train_loss: 0.1246\n",
      "126/157, train_loss: 0.0964\n",
      "127/157, train_loss: 0.0872\n",
      "128/157, train_loss: 0.0952\n",
      "129/157, train_loss: 0.1057\n",
      "130/157, train_loss: 0.1005\n",
      "131/157, train_loss: 0.0945\n",
      "132/157, train_loss: 0.1002\n",
      "133/157, train_loss: 0.0916\n",
      "134/157, train_loss: 0.0882\n",
      "135/157, train_loss: 0.0689\n",
      "136/157, train_loss: 0.0999\n",
      "137/157, train_loss: 0.1078\n",
      "138/157, train_loss: 0.1395\n",
      "139/157, train_loss: 0.0887\n",
      "140/157, train_loss: 0.0914\n",
      "141/157, train_loss: 0.1149\n",
      "142/157, train_loss: 0.1037\n",
      "143/157, train_loss: 0.1080\n",
      "144/157, train_loss: 0.0812\n",
      "145/157, train_loss: 0.1132\n",
      "146/157, train_loss: 0.0819\n",
      "147/157, train_loss: 0.0706\n",
      "148/157, train_loss: 0.0847\n",
      "149/157, train_loss: 0.0690\n",
      "150/157, train_loss: 0.0960\n",
      "151/157, train_loss: 0.0989\n",
      "152/157, train_loss: 0.0925\n",
      "153/157, train_loss: 0.0758\n",
      "154/157, train_loss: 0.1072\n",
      "155/157, train_loss: 0.1080\n",
      "156/157, train_loss: 0.1190\n",
      "157/157, train_loss: 0.0912\n",
      "158/157, train_loss: 0.0965\n",
      "epoch 2 average loss: 0.1448\n",
      "saved new best metric model\n",
      "current epoch: 2 current AUC: 0.9998 current accuracy: 0.9883 best AUC: 0.9998 at epoch: 2\n",
      "----------\n",
      "epoch 3/4\n",
      "1/157, train_loss: 0.1011\n",
      "2/157, train_loss: 0.1016\n",
      "3/157, train_loss: 0.0905\n",
      "4/157, train_loss: 0.0936\n",
      "5/157, train_loss: 0.0879\n",
      "6/157, train_loss: 0.0915\n",
      "7/157, train_loss: 0.0912\n",
      "8/157, train_loss: 0.0795\n",
      "9/157, train_loss: 0.0856\n",
      "10/157, train_loss: 0.0939\n",
      "11/157, train_loss: 0.0944\n",
      "12/157, train_loss: 0.1010\n",
      "13/157, train_loss: 0.0641\n",
      "14/157, train_loss: 0.0861\n",
      "15/157, train_loss: 0.0705\n",
      "16/157, train_loss: 0.0711\n",
      "17/157, train_loss: 0.0929\n",
      "18/157, train_loss: 0.0888\n",
      "19/157, train_loss: 0.0849\n",
      "20/157, train_loss: 0.0592\n",
      "21/157, train_loss: 0.0894\n",
      "22/157, train_loss: 0.0779\n",
      "23/157, train_loss: 0.0831\n",
      "24/157, train_loss: 0.0761\n",
      "25/157, train_loss: 0.1111\n",
      "26/157, train_loss: 0.0579\n",
      "27/157, train_loss: 0.0711\n",
      "28/157, train_loss: 0.0712\n",
      "29/157, train_loss: 0.0827\n",
      "30/157, train_loss: 0.0862\n",
      "31/157, train_loss: 0.0897\n",
      "32/157, train_loss: 0.0897\n",
      "33/157, train_loss: 0.0813\n",
      "34/157, train_loss: 0.0877\n",
      "35/157, train_loss: 0.0719\n",
      "36/157, train_loss: 0.0742\n",
      "37/157, train_loss: 0.0836\n",
      "38/157, train_loss: 0.0659\n",
      "39/157, train_loss: 0.1001\n",
      "40/157, train_loss: 0.0987\n",
      "41/157, train_loss: 0.0600\n",
      "42/157, train_loss: 0.0953\n",
      "43/157, train_loss: 0.0751\n",
      "44/157, train_loss: 0.0608\n",
      "45/157, train_loss: 0.0784\n",
      "46/157, train_loss: 0.0584\n",
      "47/157, train_loss: 0.0736\n",
      "48/157, train_loss: 0.1070\n",
      "49/157, train_loss: 0.0599\n",
      "50/157, train_loss: 0.0609\n",
      "51/157, train_loss: 0.0712\n",
      "52/157, train_loss: 0.0468\n",
      "53/157, train_loss: 0.0885\n",
      "54/157, train_loss: 0.0886\n",
      "55/157, train_loss: 0.0681\n",
      "56/157, train_loss: 0.0696\n",
      "57/157, train_loss: 0.0727\n",
      "58/157, train_loss: 0.0932\n",
      "59/157, train_loss: 0.0643\n",
      "60/157, train_loss: 0.0664\n",
      "61/157, train_loss: 0.0839\n",
      "62/157, train_loss: 0.0573\n",
      "63/157, train_loss: 0.0637\n",
      "64/157, train_loss: 0.0729\n",
      "65/157, train_loss: 0.0584\n",
      "66/157, train_loss: 0.0686\n",
      "67/157, train_loss: 0.0601\n",
      "68/157, train_loss: 0.0879\n",
      "69/157, train_loss: 0.0409\n",
      "70/157, train_loss: 0.0658\n",
      "71/157, train_loss: 0.0681\n",
      "72/157, train_loss: 0.0620\n",
      "73/157, train_loss: 0.0535\n",
      "74/157, train_loss: 0.0840\n",
      "75/157, train_loss: 0.0677\n",
      "76/157, train_loss: 0.0758\n",
      "77/157, train_loss: 0.0661\n",
      "78/157, train_loss: 0.0663\n",
      "79/157, train_loss: 0.0658\n",
      "80/157, train_loss: 0.0594\n",
      "81/157, train_loss: 0.0657\n",
      "82/157, train_loss: 0.0860\n",
      "83/157, train_loss: 0.0450\n",
      "84/157, train_loss: 0.0519\n",
      "85/157, train_loss: 0.0609\n",
      "86/157, train_loss: 0.0475\n",
      "87/157, train_loss: 0.0618\n",
      "88/157, train_loss: 0.0533\n",
      "89/157, train_loss: 0.0569\n",
      "90/157, train_loss: 0.0453\n",
      "91/157, train_loss: 0.0520\n",
      "92/157, train_loss: 0.0449\n",
      "93/157, train_loss: 0.0474\n",
      "94/157, train_loss: 0.0494\n",
      "95/157, train_loss: 0.0587\n",
      "96/157, train_loss: 0.0444\n",
      "97/157, train_loss: 0.0464\n",
      "98/157, train_loss: 0.0489\n",
      "99/157, train_loss: 0.0481\n",
      "100/157, train_loss: 0.0570\n",
      "101/157, train_loss: 0.0581\n",
      "102/157, train_loss: 0.0704\n",
      "103/157, train_loss: 0.0636\n",
      "104/157, train_loss: 0.0437\n",
      "105/157, train_loss: 0.0639\n",
      "106/157, train_loss: 0.0670\n",
      "107/157, train_loss: 0.0669\n",
      "108/157, train_loss: 0.0578\n",
      "109/157, train_loss: 0.0745\n",
      "110/157, train_loss: 0.0594\n",
      "111/157, train_loss: 0.0514\n",
      "112/157, train_loss: 0.0700\n",
      "113/157, train_loss: 0.0521\n",
      "114/157, train_loss: 0.0607\n",
      "115/157, train_loss: 0.0545\n",
      "116/157, train_loss: 0.0572\n",
      "117/157, train_loss: 0.0429\n",
      "118/157, train_loss: 0.0606\n",
      "119/157, train_loss: 0.0515\n",
      "120/157, train_loss: 0.0602\n",
      "121/157, train_loss: 0.0581\n",
      "122/157, train_loss: 0.0579\n",
      "123/157, train_loss: 0.0518\n",
      "124/157, train_loss: 0.0407\n",
      "125/157, train_loss: 0.0531\n",
      "126/157, train_loss: 0.0360\n",
      "127/157, train_loss: 0.0374\n",
      "128/157, train_loss: 0.0419\n",
      "129/157, train_loss: 0.0586\n",
      "130/157, train_loss: 0.0430\n",
      "131/157, train_loss: 0.0512\n",
      "132/157, train_loss: 0.0687\n",
      "133/157, train_loss: 0.0449\n",
      "134/157, train_loss: 0.0562\n",
      "135/157, train_loss: 0.0383\n",
      "136/157, train_loss: 0.0552\n",
      "137/157, train_loss: 0.0430\n",
      "138/157, train_loss: 0.0690\n",
      "139/157, train_loss: 0.0409\n",
      "140/157, train_loss: 0.0588\n",
      "141/157, train_loss: 0.0437\n",
      "142/157, train_loss: 0.0499\n",
      "143/157, train_loss: 0.0323\n",
      "144/157, train_loss: 0.0446\n",
      "145/157, train_loss: 0.0350\n",
      "146/157, train_loss: 0.0373\n",
      "147/157, train_loss: 0.0449\n",
      "148/157, train_loss: 0.0559\n",
      "149/157, train_loss: 0.0477\n",
      "150/157, train_loss: 0.0571\n",
      "151/157, train_loss: 0.0415\n",
      "152/157, train_loss: 0.0458\n",
      "153/157, train_loss: 0.0466\n",
      "154/157, train_loss: 0.0606\n",
      "155/157, train_loss: 0.0474\n",
      "156/157, train_loss: 0.0621\n",
      "157/157, train_loss: 0.0568\n",
      "158/157, train_loss: 0.0405\n",
      "epoch 3 average loss: 0.0651\n",
      "saved new best metric model\n",
      "current epoch: 3 current AUC: 1.0000 current accuracy: 0.9947 best AUC: 1.0000 at epoch: 3\n",
      "----------\n",
      "epoch 4/4\n",
      "1/157, train_loss: 0.0451\n",
      "2/157, train_loss: 0.0650\n",
      "3/157, train_loss: 0.0315\n",
      "4/157, train_loss: 0.0428\n",
      "5/157, train_loss: 0.0402\n",
      "6/157, train_loss: 0.0434\n",
      "7/157, train_loss: 0.0567\n",
      "8/157, train_loss: 0.0500\n",
      "9/157, train_loss: 0.0440\n",
      "10/157, train_loss: 0.0462\n",
      "11/157, train_loss: 0.0381\n",
      "12/157, train_loss: 0.0348\n",
      "13/157, train_loss: 0.0525\n",
      "14/157, train_loss: 0.0522\n",
      "15/157, train_loss: 0.0325\n",
      "16/157, train_loss: 0.0509\n",
      "17/157, train_loss: 0.0324\n",
      "18/157, train_loss: 0.0452\n",
      "19/157, train_loss: 0.0406\n",
      "20/157, train_loss: 0.0366\n",
      "21/157, train_loss: 0.0609\n",
      "22/157, train_loss: 0.0469\n",
      "23/157, train_loss: 0.0402\n",
      "24/157, train_loss: 0.0518\n",
      "25/157, train_loss: 0.0501\n",
      "26/157, train_loss: 0.0408\n",
      "27/157, train_loss: 0.0449\n",
      "28/157, train_loss: 0.0563\n",
      "29/157, train_loss: 0.0444\n",
      "30/157, train_loss: 0.0510\n",
      "31/157, train_loss: 0.0428\n",
      "32/157, train_loss: 0.0443\n",
      "33/157, train_loss: 0.0338\n",
      "34/157, train_loss: 0.0330\n",
      "35/157, train_loss: 0.0504\n",
      "36/157, train_loss: 0.0436\n",
      "37/157, train_loss: 0.0499\n",
      "38/157, train_loss: 0.0416\n",
      "39/157, train_loss: 0.0457\n",
      "40/157, train_loss: 0.0303\n",
      "41/157, train_loss: 0.0407\n",
      "42/157, train_loss: 0.0315\n",
      "43/157, train_loss: 0.0439\n",
      "44/157, train_loss: 0.0296\n",
      "45/157, train_loss: 0.0401\n",
      "46/157, train_loss: 0.0308\n",
      "47/157, train_loss: 0.0564\n",
      "48/157, train_loss: 0.0291\n",
      "49/157, train_loss: 0.0460\n",
      "50/157, train_loss: 0.0298\n",
      "51/157, train_loss: 0.0373\n",
      "52/157, train_loss: 0.0536\n",
      "53/157, train_loss: 0.0542\n",
      "54/157, train_loss: 0.0472\n",
      "55/157, train_loss: 0.0470\n",
      "56/157, train_loss: 0.0396\n",
      "57/157, train_loss: 0.0291\n",
      "58/157, train_loss: 0.0440\n",
      "59/157, train_loss: 0.0414\n",
      "60/157, train_loss: 0.0463\n",
      "61/157, train_loss: 0.0380\n",
      "62/157, train_loss: 0.0394\n",
      "63/157, train_loss: 0.0443\n",
      "64/157, train_loss: 0.0454\n",
      "65/157, train_loss: 0.0239\n",
      "66/157, train_loss: 0.0413\n",
      "67/157, train_loss: 0.0501\n",
      "68/157, train_loss: 0.0348\n",
      "69/157, train_loss: 0.0469\n",
      "70/157, train_loss: 0.0528\n",
      "71/157, train_loss: 0.0374\n",
      "72/157, train_loss: 0.0408\n",
      "73/157, train_loss: 0.0467\n",
      "74/157, train_loss: 0.0264\n",
      "75/157, train_loss: 0.0461\n",
      "76/157, train_loss: 0.0354\n",
      "77/157, train_loss: 0.0378\n",
      "78/157, train_loss: 0.0336\n",
      "79/157, train_loss: 0.0412\n",
      "80/157, train_loss: 0.0357\n",
      "81/157, train_loss: 0.0406\n",
      "82/157, train_loss: 0.0339\n",
      "83/157, train_loss: 0.0280\n",
      "84/157, train_loss: 0.0308\n",
      "85/157, train_loss: 0.0530\n",
      "86/157, train_loss: 0.0339\n",
      "87/157, train_loss: 0.0427\n",
      "88/157, train_loss: 0.0303\n",
      "89/157, train_loss: 0.0496\n",
      "90/157, train_loss: 0.0391\n",
      "91/157, train_loss: 0.0373\n",
      "92/157, train_loss: 0.0306\n",
      "93/157, train_loss: 0.0372\n",
      "94/157, train_loss: 0.0321\n",
      "95/157, train_loss: 0.0394\n",
      "96/157, train_loss: 0.0474\n",
      "97/157, train_loss: 0.0281\n",
      "98/157, train_loss: 0.0494\n",
      "99/157, train_loss: 0.0559\n",
      "100/157, train_loss: 0.0250\n",
      "101/157, train_loss: 0.0377\n",
      "102/157, train_loss: 0.0502\n",
      "103/157, train_loss: 0.0283\n",
      "104/157, train_loss: 0.0432\n",
      "105/157, train_loss: 0.0394\n",
      "106/157, train_loss: 0.0419\n",
      "107/157, train_loss: 0.0339\n",
      "108/157, train_loss: 0.0292\n",
      "109/157, train_loss: 0.0305\n",
      "110/157, train_loss: 0.0266\n",
      "111/157, train_loss: 0.0354\n",
      "112/157, train_loss: 0.0554\n",
      "113/157, train_loss: 0.0239\n",
      "114/157, train_loss: 0.0317\n",
      "115/157, train_loss: 0.0234\n",
      "116/157, train_loss: 0.0359\n",
      "117/157, train_loss: 0.0266\n",
      "118/157, train_loss: 0.0437\n",
      "119/157, train_loss: 0.0517\n",
      "120/157, train_loss: 0.0423\n",
      "121/157, train_loss: 0.0236\n",
      "122/157, train_loss: 0.0422\n",
      "123/157, train_loss: 0.0382\n",
      "124/157, train_loss: 0.0278\n",
      "125/157, train_loss: 0.0350\n",
      "126/157, train_loss: 0.0431\n",
      "127/157, train_loss: 0.0347\n",
      "128/157, train_loss: 0.0341\n",
      "129/157, train_loss: 0.0434\n",
      "130/157, train_loss: 0.0497\n",
      "131/157, train_loss: 0.0278\n",
      "132/157, train_loss: 0.0407\n",
      "133/157, train_loss: 0.0471\n",
      "134/157, train_loss: 0.0373\n",
      "135/157, train_loss: 0.0407\n",
      "136/157, train_loss: 0.0242\n",
      "137/157, train_loss: 0.0420\n",
      "138/157, train_loss: 0.0393\n",
      "139/157, train_loss: 0.0391\n",
      "140/157, train_loss: 0.0289\n",
      "141/157, train_loss: 0.0356\n",
      "142/157, train_loss: 0.0345\n",
      "143/157, train_loss: 0.0326\n",
      "144/157, train_loss: 0.0289\n",
      "145/157, train_loss: 0.0390\n",
      "146/157, train_loss: 0.0331\n",
      "147/157, train_loss: 0.0264\n",
      "148/157, train_loss: 0.0247\n",
      "149/157, train_loss: 0.0259\n",
      "150/157, train_loss: 0.0190\n",
      "151/157, train_loss: 0.0352\n",
      "152/157, train_loss: 0.0232\n",
      "153/157, train_loss: 0.0295\n",
      "154/157, train_loss: 0.0230\n",
      "155/157, train_loss: 0.0533\n",
      "156/157, train_loss: 0.0231\n",
      "157/157, train_loss: 0.0405\n",
      "158/157, train_loss: 0.0225\n",
      "epoch 4 average loss: 0.0391\n",
      "saved new best metric model\n",
      "current epoch: 4 current AUC: 1.0000 current accuracy: 0.9969 best AUC: 1.0000 at epoch: 4\n",
      "train completed, best_metric: 1.0000 at epoch: 4\n",
      "Train finished!\n"
     ]
    }
   ],
   "source": [
    "best_metric = -1 # 定义最佳测量值变量\n",
    "best_metric_epoch = -1# 定义最佳训练循环次数变量\n",
    "epoch_loss_values = []#定义训练损失值变量\n",
    "metric_values = []#定义测量值列表\n",
    "writer = SummaryWriter()#记录训练过程指标，用于可视化训练过程\n",
    " \n",
    "for epoch in range(max_epochs):#根据训练循环次数开始训练\n",
    "    print(\"-\" * 10)#每次循环，打印10个_\n",
    "    print(f\"epoch {epoch + 1}/{max_epochs}\")#f字串，打印当前属于第几次训练循环\n",
    "    model.train()#初始化模型训练\n",
    "    epoch_loss = 0#初始化训练损失\n",
    "    step = 0#当前循环，批量计数为0\n",
    "    for batch_data in train_loader:#通过训练数据加载器获得批量数据，300组数据\n",
    "        step += 1#批量计数加1\n",
    "        inputs, labels = batch_data[0].to(device), batch_data[1].to(device)# 批量图像和标签数据分别放入设备\n",
    "        optimizer.zero_grad()#梯度初始化\n",
    "        outputs = model(inputs)#前向传播\n",
    "        loss = loss_function(outputs, labels)#计算损失函数\n",
    "        loss.backward()#反向传播求梯度\n",
    "        optimizer.step()#更新权重\n",
    "        epoch_loss += loss.item()#叠加损失值\n",
    "        #打印当前批次和总批次数，以及当前批量数据的损失\n",
    "        print(f\"{step}/{len(train_ds) // train_loader.batch_size}, \" f\"train_loss: {loss.item():.4f}\")\n",
    "        epoch_len = len(train_ds) // train_loader.batch_size #每次训练数据循环的批次数目，等于训练数据//批量大小\n",
    "        writer.add_scalar(\"train_loss\", loss.item(), epoch_len * epoch + step)#\n",
    "    epoch_loss /= step # 当前批次的平均损失\n",
    "    epoch_loss_values.append(epoch_loss)#当前批次的平均损失添加近列表\n",
    "    print(f\"epoch {epoch + 1} average loss: {epoch_loss:.4f}\")#打印平均损失\n",
    " \n",
    "    if (epoch + 1) % val_interval == 0:# 根据val_interval值，进行验证\n",
    "        model.eval()#初始化评估函数\n",
    "        with torch.no_grad():# 评估时，不要计算梯度\n",
    "            y_pred = torch.tensor([], dtype=torch.float32, device=device)#定义预测向量\n",
    "            y = torch.tensor([], dtype=torch.long, device=device)#定义标签向量\n",
    "            for val_data in val_loader:#按照批量要求读入验证数据与标签\n",
    "                val_images, val_labels = (#把批量验证数据和标签放入设备\n",
    "                    val_data[0].to(device),\n",
    "                    val_data[1].to(device),\n",
    "                )\n",
    "                y_pred = torch.cat([y_pred, model(val_images)], dim=0)# 对批量预测数据进行拼接\n",
    "                y = torch.cat([y, val_labels], dim=0)# 对批量标签数据进行拼接，直至循环完毕\n",
    "            y_onehot = [y_trans(i) for i in decollate_batch(y, detach=False)]#对标签数据变换为one-hot编码\n",
    "            y_pred_act = [y_pred_trans(i) for i in decollate_batch(y_pred)]#预测数据，形成预测数据列表\n",
    "            auc_metric(y_pred_act, y_onehot)#计算模型预测的AUC值\n",
    "            result = auc_metric.aggregate()# 对AUC值进行累加\n",
    "            auc_metric.reset()\n",
    "            del y_pred_act, y_onehot # 删除预测数据列表和测试one-hot列表\n",
    "            metric_values.append(result) # 将AUC结果添加到测量值列表上\n",
    "            acc_value = torch.eq(y_pred.argmax(dim=1), y)\n",
    "            acc_metric = acc_value.sum().item() / len(acc_value)\n",
    "            if result > best_metric:#根据最佳AUC值，保存模型参数\n",
    "                best_metric = result\n",
    "                best_metric_epoch = epoch + 1\n",
    "                torch.save(model.state_dict(), os.path.join(root_dir, \"best_metric_model.pth\"))\n",
    "                print(\"saved new best metric model\")\n",
    "            print( # 每次训练循环结束后，打印相关信息\n",
    "                f\"current epoch: {epoch + 1} current AUC: {result:.4f}\"\n",
    "                f\" current accuracy: {acc_metric:.4f}\"\n",
    "                f\" best AUC: {best_metric:.4f}\"\n",
    "                f\" at epoch: {best_metric_epoch}\"\n",
    "            )\n",
    "            writer.add_scalar(\"val_accuracy\", acc_metric, epoch + 1)#保存验证精度\n",
    "#所有训练循环结束后，打印最佳测量参数，及其对应的训练循环次数\n",
    "print(f\"train completed, best_metric: {best_metric:.4f} \" f\"at epoch: {best_metric_epoch}\")\n",
    "writer.close() #关闭训练过程参数记录\n",
    "print(f\"Train finished!\")#显示循环结束"
   ]
  },
  {
   "cell_type": "markdown",
   "id": "2859bc92",
   "metadata": {
    "papermill": {
     "duration": 0.033374,
     "end_time": "2024-11-28T05:57:35.490352",
     "exception": false,
     "start_time": "2024-11-28T05:57:35.456978",
     "status": "completed"
    },
    "tags": []
   },
   "source": [
    "  在上面的训练代码中，我们通过epoch_loss_values变量和metric_values变量记录了每次训练循环过程的损失值和性能指标，通过matplotlib.pyplot软件包的plot命令，可以绘制出损失和性能指标变化曲线，能够形象地展现出损失及性能指标与训练循环次数的关系。代码及注解如下所示：355"
   ]
  },
  {
   "cell_type": "code",
   "execution_count": 17,
   "id": "90e26307",
   "metadata": {
    "execution": {
     "iopub.execute_input": "2024-11-28T05:57:35.559342Z",
     "iopub.status.busy": "2024-11-28T05:57:35.558508Z",
     "iopub.status.idle": "2024-11-28T05:57:35.967367Z",
     "shell.execute_reply": "2024-11-28T05:57:35.966467Z"
    },
    "papermill": {
     "duration": 0.44555,
     "end_time": "2024-11-28T05:57:35.969330",
     "exception": false,
     "start_time": "2024-11-28T05:57:35.523780",
     "status": "completed"
    },
    "tags": []
   },
   "outputs": [
    {
     "data": {
      "image/png": "[encoded data removed]",
      "text/plain": [
       "<Figure size 1200x600 with 2 Axes>"
      ]
     },
     "metadata": {},
     "output_type": "display_data"
    }
   ],
   "source": [
    "plt.figure(\"train\", (12, 6))#新建一个绘图窗口，尺寸为12×6英寸\n",
    "plt.subplot(1, 2, 1)#打开左边第一个绘图区\n",
    "plt.title(\"Epoch Average Loss\")#绘图区名字设置为\"Epoch Average Loss\"\n",
    "x = [i + 1 for i in range(len(epoch_loss_values))]# 通过列表表达式，得到epoch_loss_values长度列表\n",
    "y = epoch_loss_values# y轴就是epoch_loss_values值\n",
    "plt.xlabel(\"epoch\")#横坐标名称为epoch\n",
    "plt.plot(x, y)#以x和y数据，绘制曲线\n",
    "plt.subplot(1, 2, 2)#开开右边第二个绘图区\n",
    "plt.title(\"Val AUC\")#设置绘图区名称为 \"Val AUC\"\n",
    "x = [val_interval * (i + 1) for i in range(len(metric_values))]# 通过列表表达式，得到metric_values长度列表\n",
    "y = metric_values #y轴数据为metric_values\n",
    "plt.xlabel(\"epoch\")# x 轴标号为“epoch”\n",
    "plt.plot(x, y) #绘制曲线\n",
    "plt.show() # 显示图像"
   ]
  },
  {
   "cell_type": "markdown",
   "id": "83c6cceb",
   "metadata": {
    "papermill": {
     "duration": 0.033951,
     "end_time": "2024-11-28T05:57:36.087099",
     "exception": false,
     "start_time": "2024-11-28T05:57:36.053148",
     "status": "completed"
    },
    "tags": []
   },
   "source": [
    " 深度学习模型的训练离不开训练集、验证集和测试集，训练集用来优化模型参数，验证集确定最佳模型参数，而测试集则用来评估模型的泛化能力。测试代码及注解如下："
   ]
  },
  {
   "cell_type": "code",
   "execution_count": 18,
   "id": "f74bda13",
   "metadata": {
    "execution": {
     "iopub.execute_input": "2024-11-28T05:57:36.157172Z",
     "iopub.status.busy": "2024-11-28T05:57:36.156823Z",
     "iopub.status.idle": "2024-11-28T05:58:15.520134Z",
     "shell.execute_reply": "2024-11-28T05:58:15.519241Z"
    },
    "papermill": {
     "duration": 39.401359,
     "end_time": "2024-11-28T05:58:15.522545",
     "exception": false,
     "start_time": "2024-11-28T05:57:36.121186",
     "status": "completed"
    },
    "tags": []
   },
   "outputs": [],
   "source": [
    "# 加载预训练模型权重\n",
    "model.load_state_dict(torch.load(os.path.join(root_dir, \"best_metric_model.pth\"), map_location=torch.device('cuda' if torch.cuda.is_available() else 'cpu'), weights_only=True))\n",
    "# 设置模型评估模式，不更新权重\n",
    "model.eval()\n",
    "y_true = []#设置真实值列表\n",
    "y_pred = []#设置预测值列表\n",
    "with torch.no_grad():# 仅进行前向传播，不计算梯度，节约内存开销，提高计算速度\n",
    "    for test_data in test_loader: # 批量加载数据\n",
    "        test_images, test_labels = (\n",
    "            test_data[0].to(device),# 把测试图像加载到设备，\n",
    "            test_data[1].to(device),# 把标签数据加载到设备\n",
    "        )\n",
    "        pred = model(test_images).argmax(dim=1)# 对测试图像数据进行预测，并把结果转换为最大概率对应的序号值\n",
    "        for i in range(len(pred)):#遍历测试序列每一个元素\n",
    "            y_true.append(test_labels[i].item())# 添加测试标签到y_true列表中\n",
    "            y_pred.append(pred[i].item())#添加预测值到y_pred列表中"
   ]
  },
  {
   "cell_type": "markdown",
   "id": "3dda6521",
   "metadata": {
    "papermill": {
     "duration": 0.034259,
     "end_time": "2024-11-28T05:58:15.591882",
     "exception": false,
     "start_time": "2024-11-28T05:58:15.557623",
     "status": "completed"
    },
    "tags": []
   },
   "source": [
    "得到了测试标签序列y_true和预测序列y_pred之后，可以利用sklearn中的函数很方便第计算出混淆矩阵，从而更全面地评估训练模型的泛化能力。具体代码及解释如下：\r\n"
   ]
  },
  {
   "cell_type": "code",
   "execution_count": 19,
   "id": "b9b4c537",
   "metadata": {
    "execution": {
     "iopub.execute_input": "2024-11-28T05:58:15.662304Z",
     "iopub.status.busy": "2024-11-28T05:58:15.661931Z",
     "iopub.status.idle": "2024-11-28T05:58:15.680599Z",
     "shell.execute_reply": "2024-11-28T05:58:15.679545Z"
    },
    "papermill": {
     "duration": 0.056197,
     "end_time": "2024-11-28T05:58:15.682530",
     "exception": false,
     "start_time": "2024-11-28T05:58:15.626333",
     "status": "completed"
    },
    "tags": []
   },
   "outputs": [
    {
     "name": "stdout",
     "output_type": "stream",
     "text": [
      "              precision    recall  f1-score   support\n",
      "\n",
      "   AbdomenCT     0.9940    0.9970    0.9955       995\n",
      "   BreastMRI     0.9954    0.9909    0.9932       880\n",
      "         CXR     0.9990    0.9980    0.9985       982\n",
      "     ChestCT     0.9902    1.0000    0.9951      1014\n",
      "        Hand     0.9981    0.9924    0.9952      1048\n",
      "      HeadCT     0.9969    0.9949    0.9959       976\n",
      "\n",
      "    accuracy                         0.9956      5895\n",
      "   macro avg     0.9956    0.9955    0.9956      5895\n",
      "weighted avg     0.9956    0.9956    0.9956      5895\n",
      "\n"
     ]
    }
   ],
   "source": [
    "# 生成分类评价报告，y_true是标签列表，y_pred是预测值列表，target_names是标签分类列表，digits决定小数点后保留位数\n",
    "print(classification_report(y_true, y_pred, target_names=class_names, digits=4))"
   ]
  },
  {
   "cell_type": "markdown",
   "id": "98628e93",
   "metadata": {
    "papermill": {
     "duration": 0.035779,
     "end_time": "2024-11-28T05:58:15.755194",
     "exception": false,
     "start_time": "2024-11-28T05:58:15.719415",
     "status": "completed"
    },
    "tags": []
   },
   "source": [
    "从图中可以看出，模型分类的精确率(precision)都大于0.99，说明所有预测为真的样本中真样本所占的比例；召回率(recall)也大于0.99，说明所有真样本中预测为真的样本所占的比例，召回率越高说明漏诊率越低。这两个指标是相互制约，一般通过f1-score（精确率和召回率的调和平均数）综合反应模型的性能，模型对各种类型的f1-score都是大于0.99的，性能较好。355"
   ]
  },
  {
   "cell_type": "code",
   "execution_count": 20,
   "id": "4bc6a79d",
   "metadata": {
    "execution": {
     "iopub.execute_input": "2024-11-28T05:58:15.826183Z",
     "iopub.status.busy": "2024-11-28T05:58:15.825484Z",
     "iopub.status.idle": "2024-11-28T05:58:15.856665Z",
     "shell.execute_reply": "2024-11-28T05:58:15.855749Z"
    },
    "papermill": {
     "duration": 0.068791,
     "end_time": "2024-11-28T05:58:15.858384",
     "exception": false,
     "start_time": "2024-11-28T05:58:15.789593",
     "status": "completed"
    },
    "tags": []
   },
   "outputs": [
    {
     "name": "stdout",
     "output_type": "stream",
     "text": [
      "File copied to ./kaggle/working/best_metric_model.pth\n"
     ]
    }
   ],
   "source": [
    "import shutil\n",
    "import os\n",
    "\n",
    "# 定义源文件路径和目标文件路径\n",
    "source_path = os.path.join(root_dir, 'best_metric_model.pth')\n",
    "output_dir = './kaggle/working'  # Kaggle的输出目录\n",
    "\n",
    "# 确保输出目录存在\n",
    "if not os.path.exists(output_dir):\n",
    "    os.makedirs(output_dir)\n",
    "\n",
    "# 复制文件\n",
    "target_path = os.path.join(output_dir, 'best_metric_model.pth')\n",
    "shutil.copy(source_path, target_path)\n",
    "\n",
    "print(f'File copied to {target_path}')"
   ]
  },
  {
   "cell_type": "code",
   "execution_count": 21,
   "id": "a03461f7",
   "metadata": {
    "execution": {
     "iopub.execute_input": "2024-11-28T05:58:15.928580Z",
     "iopub.status.busy": "2024-11-28T05:58:15.928275Z",
     "iopub.status.idle": "2024-11-28T05:58:15.933044Z",
     "shell.execute_reply": "2024-11-28T05:58:15.932259Z"
    },
    "papermill": {
     "duration": 0.041726,
     "end_time": "2024-11-28T05:58:15.934667",
     "exception": false,
     "start_time": "2024-11-28T05:58:15.892941",
     "status": "completed"
    },
    "tags": []
   },
   "outputs": [
    {
     "name": "stdout",
     "output_type": "stream",
     "text": [
      "Write permission is granted.\n"
     ]
    }
   ],
   "source": [
    "# 检查写入权限\n",
    "if os.access('./kaggle/working', os.W_OK):\n",
    "    print(\"Write permission is granted.\")\n",
    "else:\n",
    "    print(\"Write permission is denied.\")"
   ]
  },
  {
   "cell_type": "code",
   "execution_count": 22,
   "id": "7e922b7c",
   "metadata": {
    "execution": {
     "iopub.execute_input": "2024-11-28T05:58:16.005284Z",
     "iopub.status.busy": "2024-11-28T05:58:16.004988Z",
     "iopub.status.idle": "2024-11-28T05:58:16.009999Z",
     "shell.execute_reply": "2024-11-28T05:58:16.009275Z"
    },
    "papermill": {
     "duration": 0.042117,
     "end_time": "2024-11-28T05:58:16.011652",
     "exception": false,
     "start_time": "2024-11-28T05:58:15.969535",
     "status": "completed"
    },
    "tags": []
   },
   "outputs": [
    {
     "name": "stdout",
     "output_type": "stream",
     "text": [
      "Files in ./kaggle/working: ['best_metric_model.pth']\n"
     ]
    }
   ],
   "source": [
    "import os\n",
    "\n",
    "# 列出./kaggle/working目录下的所有文件\n",
    "files_in_working = os.listdir('./kaggle/working')\n",
    "print(\"Files in ./kaggle/working:\", files_in_working)"
   ]
  },
  {
   "cell_type": "code",
   "execution_count": 23,
   "id": "4fee1b08",
   "metadata": {
    "execution": {
     "iopub.execute_input": "2024-11-28T05:58:16.081398Z",
     "iopub.status.busy": "2024-11-28T05:58:16.081089Z",
     "iopub.status.idle": "2024-11-28T05:58:16.085993Z",
     "shell.execute_reply": "2024-11-28T05:58:16.085070Z"
    },
    "papermill": {
     "duration": 0.04151,
     "end_time": "2024-11-28T05:58:16.087594",
     "exception": false,
     "start_time": "2024-11-28T05:58:16.046084",
     "status": "completed"
    },
    "tags": []
   },
   "outputs": [
    {
     "name": "stdout",
     "output_type": "stream",
     "text": [
      "Size of best_metric_model.pth: 28438034 bytes\n"
     ]
    }
   ],
   "source": [
    "import os\n",
    "file_size = os.path.getsize('./kaggle/working/best_metric_model.pth')\n",
    "print(f\"Size of best_metric_model.pth: {file_size} bytes\")"
   ]
  }
 ],
 "metadata": {
  "kaggle": {
   "accelerator": "gpu",
   "dataSources": [],
   "dockerImageVersionId": 30787,
   "isGpuEnabled": true,
   "isInternetEnabled": true,
   "language": "python",
   "sourceType": "notebook"
  },
  "kernelspec": {
   "display_name": "Python 3",
   "language": "python",
   "name": "python3"
  },
  "language_info": {
   "codemirror_mode": {
    "name": "ipython",
    "version": 3
   },
   "file_extension": ".py",
   "mimetype": "text/x-python",
   "name": "python",
   "nbconvert_exporter": "python",
   "pygments_lexer": "ipython3",
   "version": "3.10.14"
  },
  "papermill": {
   "default_parameters": {},
   "duration": 1166.266877,
   "end_time": "2024-11-28T05:58:18.953765",
   "environment_variables": {},
   "exception": null,
   "input_path": "__notebook__.ipynb",
   "output_path": "__notebook__.ipynb",
   "parameters": {},
   "start_time": "2024-11-28T05:38:52.686888",
   "version": "2.6.0"
  }
 },
 "nbformat": 4,
 "nbformat_minor": 5
}
